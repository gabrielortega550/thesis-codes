from mpl_toolkits.mplot3d import Axes3D
import matplotlib.pyplot as plt
import numpy as np
from google.colab import files

alpha=2.5
v=0.03
l=10
F0=1
n=50
sigma=0.01

def phi(w):
    if w <= 0:
      return 0
    else:
      return (F0-sigma)/(1.0 + w/(1.0-sigma))

def f(r,t):

    U_i=r[:n]
    omega_i=r[n:]

    fU_i = np.empty(n,float)
    fomega_i = np.empty(n,float)

    fU_i[0] = omega_i[0]
    s0 = (l**2)*(U_i[1]-U_i[0]) - U_i[0]
    if (omega_i[0] <= -v +v*0.01 and s0 <= F0):
      omega_i[0] = -v
      fomega_i[0] = 0
    else:
      fomega_i[0] = s0 - phi(2*alpha*v + 2*alpha*omega_i[0])

    for j in range(1,n-1):
      fU_i[j] = omega_i[j]
      s = (l**2)*(U_i[j+1]-2*U_i[j]+U_i[j-1]) - U_i[j]
      if (omega_i[j] <= -v +v*0.01 and s <= F0):
        omega_i[j] = -v
        fomega_i[j] = 0
      else:
        fomega_i[j] = s - phi(2*alpha*v + 2*alpha*omega_i[j])

    fU_i[n-1] = omega_i[n-1]
    sn = -(l**2)*(U_i[n-1]-U_i[n-2]) - U_i[n-1]
    if (omega_i[n-1] <= -v +v*0.01 and  sn <= F0) :
      omega_i[n-1] = -v
      fomega_i[n-1] = 0
    else:
      fomega_i[n-1] = sn - phi(2*alpha*v + 2*alpha*omega_i[n-1])

    return np.concatenate([fU_i,fomega_i])

a = 0
b = 50
N = 5000
h = (b-a)/N

PV = [] #Crea una lista de listas donde se almacenarán los valores de las posiciones y velocidades.
for i in range(2*n):
    PV.append([])

tpoints = np.arange(a,b,h)
'''
def vect(a,b,n):     #Función que ingresa vectores aleatorios
    vector=[]
    for i in range(n):
        vector.append(np.random.uniform(a,b))
    return vector
pi = np.array(vect(0,-0.05,n),float)
'''
#vi=np.zeros([n],float)
vi=[]
for i in range(n):
  vi.append(-v)

pi=np.array([1.06548909, 1.05098904, 1.03399497, 1.0182251 , 1.0024191 ,
       0.98626092, 0.97029259, 0.95593115, 0.94810456, 0.94950679,
       0.94789357, 0.94416882, 0.9396837 , 0.94004281, 0.95234098,
       0.95890704, 0.96556188, 0.97892352, 0.98880809, 0.99095866,
       0.98322658, 0.9675816 , 0.9455876 , 0.90904045, 0.87261246,
       0.8390948 , 0.79853134, 0.76480945, 0.73504734, 0.70437504,
       0.67398588, 0.64127558, 0.60667824, 0.57008767, 0.53599424,
       0.51121144, 0.49192579, 0.47725315, 0.46422029, 0.45637235,
       0.45007523, 0.44317835, 0.43769106, 0.43473214, 0.43523271,
       0.43885461, 0.44658242, 0.45508815, 0.46290078, 0.46400887])

r=np.concatenate([pi,vi])

for t in tpoints:
    for i in range(2*n):
        PV[i].append(r[i])
    k1 = h*f(r,t)
    k2 = h*f(r+0.5*k1,t+0.5*h)
    k3 = h*f(r+0.5*k2,t+0.5*h)
    k4 = h*f(r+k3,t+h)
    r += (k1+2*k2+2*k3+k4)/6

posiciones = []
for i in range(n):
    posiciones.append([])
    for j in range(len(tpoints)):
        posiciones[i].append(i)